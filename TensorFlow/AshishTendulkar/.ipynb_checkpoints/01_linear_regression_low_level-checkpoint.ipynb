{
 "cells": [
  {
   "cell_type": "markdown",
   "metadata": {},
   "source": [
    "This notebook demonstrates linear regression in TensorFlow, and visualizes the graph and summary data for the variables in TensorBoard. Uncomment code where instructed to learn more as you go along."
   ]
  },
  {
   "cell_type": "code",
   "execution_count": 1,
   "metadata": {},
   "outputs": [
    {
     "name": "stderr",
     "output_type": "stream",
     "text": [
      "C:\\Users\\shbuddha\\AppData\\Local\\Continuum\\anaconda3\\lib\\site-packages\\h5py\\__init__.py:34: FutureWarning: Conversion of the second argument of issubdtype from `float` to `np.floating` is deprecated. In future, it will be treated as `np.float64 == np.dtype(float).type`.\n",
      "  from ._conv import register_converters as _register_converters\n"
     ]
    }
   ],
   "source": [
    "# The next three imports help with compatability between\n",
    "# Python 2 and 3\n",
    "from __future__ import absolute_import\n",
    "from __future__ import division\n",
    "from __future__ import print_function\n",
    "\n",
    "import os\n",
    "\n",
    "import numpy as np\n",
    "import pylab\n",
    "import tensorflow as tf\n",
    "\n",
    "# A special command for IPython Notebooks that\n",
    "# intructs Matplotlib to display plots in the notebook\n",
    "%matplotlib inline"
   ]
  },
  {
   "cell_type": "code",
   "execution_count": 2,
   "metadata": {
    "collapsed": true
   },
   "outputs": [],
   "source": [
    "# This is a directory we'll use to store information\n",
    "# about the graph to later visualize in TensorBoard.\n",
    "# By default, it will be created in the same directory\n",
    "# as this notebook. \n",
    "\n",
    "# Be sure to delete the contents of this directory before\n",
    "# running the script.\n",
    "LOGDIR = './graphs'"
   ]
  },
  {
   "cell_type": "code",
   "execution_count": 3,
   "metadata": {
    "collapsed": true
   },
   "outputs": [],
   "source": [
    "tf.reset_default_graph()\n",
    "sess = tf.Session()"
   ]
  },
  {
   "cell_type": "markdown",
   "metadata": {},
   "source": [
    "This function will create a noisy dataset that's roughly linear, according to the equation *y = mx + b + noise*"
   ]
  },
  {
   "cell_type": "code",
   "execution_count": 4,
   "metadata": {
    "collapsed": true
   },
   "outputs": [],
   "source": [
    "def make_noisy_data(m=0.1, b=0.3, n=100):\n",
    "    x = np.random.rand(n).astype(np.float32)\n",
    "    noise = np.random.normal(scale=0.01, size=len(x))\n",
    "    y = m * x + b + noise\n",
    "    return x, y"
   ]
  },
  {
   "cell_type": "markdown",
   "metadata": {},
   "source": [
    "Step 1) Create training and testing data."
   ]
  },
  {
   "cell_type": "code",
   "execution_count": 5,
   "metadata": {
    "collapsed": true
   },
   "outputs": [],
   "source": [
    "x_train, y_train = make_noisy_data()\n",
    "x_test, y_test = make_noisy_data()"
   ]
  },
  {
   "cell_type": "markdown",
   "metadata": {},
   "source": [
    "Plot our training and testing data "
   ]
  },
  {
   "cell_type": "code",
   "execution_count": 6,
   "metadata": {},
   "outputs": [
    {
     "data": {
      "text/plain": [
       "[<matplotlib.lines.Line2D at 0x1b82e5e54a8>]"
      ]
     },
     "execution_count": 6,
     "metadata": {},
     "output_type": "execute_result"
    },
    {
     "data": {
      "image/png": "[encoded data removed]",
      "text/plain": [
       "<Figure size 432x288 with 1 Axes>"
      ]
     },
     "metadata": {},
     "output_type": "display_data"
    }
   ],
   "source": [
    "# Uncomment the following lines to plot the data.\n",
    "pylab.plot(x_train, y_train, 'b.')\n",
    "pylab.plot(x_test, y_test, 'g.')"
   ]
  },
  {
   "cell_type": "markdown",
   "metadata": {},
   "source": [
    "Step 2) Define placeholders for data we'll later input to the graph."
   ]
  },
  {
   "cell_type": "code",
   "execution_count": 7,
   "metadata": {
    "collapsed": true
   },
   "outputs": [],
   "source": [
    "# tf.name_scope is used to make a graph legible in the TensorBoard graph explorer\n",
    "# shape=[None] means x_placeholder is a one dimensional array of any length. \n",
    "# name='x' gives TensorBoard a display name for this node.\n",
    "with tf.name_scope('input'):\n",
    "    x_placeholder = tf.placeholder(shape=[None], dtype=tf.float32, name='x-input')\n",
    "    y_placeholder = tf.placeholder(shape=[None], dtype=tf.float32, name='y-input')"
   ]
  },
  {
   "cell_type": "code",
   "execution_count": 8,
   "metadata": {},
   "outputs": [
    {
     "name": "stdout",
     "output_type": "stream",
     "text": [
      "Tensor(\"input/x-input:0\", shape=(?,), dtype=float32)\n",
      "Tensor(\"input/y-input:0\", shape=(?,), dtype=float32)\n"
     ]
    }
   ],
   "source": [
    "# Uncomment the following lines to see what x_placeholder and y_placeholder are.\n",
    "print(x_placeholder)\n",
    "print(y_placeholder)"
   ]
  },
  {
   "cell_type": "markdown",
   "metadata": {},
   "source": [
    "Step 3) Define our model.\n",
    "\n",
    "Here, we'll use a linear model: *y = mx + b*"
   ]
  },
  {
   "cell_type": "code",
   "execution_count": 9,
   "metadata": {
    "collapsed": true
   },
   "outputs": [],
   "source": [
    "with tf.name_scope('model'):\n",
    "    m = tf.Variable(tf.random_normal([1]), name='m')\n",
    "    b = tf.Variable(tf.random_normal([1]), name='b')\n",
    "    # This is the same as y = tf.add(tf.mul(m, x_placeholder), b), but looks nicer\n",
    "    y = m * x_placeholder + b"
   ]
  },
  {
   "cell_type": "code",
   "execution_count": 10,
   "metadata": {},
   "outputs": [
    {
     "name": "stdout",
     "output_type": "stream",
     "text": [
      "<tf.Variable 'model/m:0' shape=(1,) dtype=float32_ref>\n",
      "<tf.Variable 'model/b:0' shape=(1,) dtype=float32_ref>\n",
      "Tensor(\"model/add:0\", shape=(?,), dtype=float32)\n"
     ]
    }
   ],
   "source": [
    "# Uncomment the following lines to see what m, b, and y are\n",
    "print(m)\n",
    "print(b)\n",
    "print(y)"
   ]
  },
  {
   "cell_type": "markdown",
   "metadata": {},
   "source": [
    "Step 4) Define a loss function (here, squared error) and an optimizer (here, gradient descent)."
   ]
  },
  {
   "cell_type": "code",
   "execution_count": 11,
   "metadata": {
    "collapsed": true
   },
   "outputs": [],
   "source": [
    "LEARNING_RATE = 0.5\n",
    "\n",
    "with tf.name_scope('training'):\n",
    "    with tf.name_scope('loss'):\n",
    "        loss = tf.reduce_mean(tf.square(y - y_placeholder))\n",
    "    with tf.name_scope('optimizer'):\n",
    "        optimizer = tf.train.GradientDescentOptimizer(LEARNING_RATE)\n",
    "        train = optimizer.minimize(loss) "
   ]
  },
  {
   "cell_type": "code",
   "execution_count": 12,
   "metadata": {},
   "outputs": [
    {
     "name": "stdout",
     "output_type": "stream",
     "text": [
      "loss: Tensor(\"training/loss/Mean:0\", shape=(), dtype=float32)\n",
      "optimizer: <tensorflow.python.training.gradient_descent.GradientDescentOptimizer object at 0x000001B82EA20DA0>\n",
      "train_step: name: \"training/optimizer/GradientDescent\"\n",
      "op: \"NoOp\"\n",
      "input: \"^training/optimizer/GradientDescent/update_model/m/ApplyGradientDescent\"\n",
      "input: \"^training/optimizer/GradientDescent/update_model/b/ApplyGradientDescent\"\n",
      "\n"
     ]
    }
   ],
   "source": [
    "# Uncomment the following 3 lines to see what 'loss', 'optimizer' and 'train' are.\n",
    "print(\"loss:\", loss)\n",
    "print(\"optimizer:\", optimizer)\n",
    "print(\"train_step:\", train)"
   ]
  },
  {
   "cell_type": "markdown",
   "metadata": {},
   "source": [
    "Step 5) Set up TensorBoard"
   ]
  },
  {
   "cell_type": "code",
   "execution_count": 13,
   "metadata": {
    "collapsed": true
   },
   "outputs": [],
   "source": [
    "# Write the graph\n",
    "writer = tf.summary.FileWriter(LOGDIR)\n",
    "writer.add_graph(sess.graph)\n",
    "\n",
    "# Attach summaries to Tensors (for TensorBoard visualization)\n",
    "tf.summary.histogram('m', m)\n",
    "tf.summary.histogram('b', b)\n",
    "tf.summary.scalar('loss', loss)\n",
    "\n",
    "# This op will calculate our summary data when run\n",
    "summary_op = tf.summary.merge_all()"
   ]
  },
  {
   "cell_type": "markdown",
   "metadata": {},
   "source": [
    "Step 6) Initialize variables\n",
    "\n",
    "At this point, our graph is complete. We're now ready to initialize variables, then begin training."
   ]
  },
  {
   "cell_type": "code",
   "execution_count": 14,
   "metadata": {
    "collapsed": true
   },
   "outputs": [],
   "source": [
    "sess.run(tf.global_variables_initializer())"
   ]
  },
  {
   "cell_type": "markdown",
   "metadata": {},
   "source": [
    "Step 7) Training"
   ]
  },
  {
   "cell_type": "code",
   "execution_count": 15,
   "metadata": {},
   "outputs": [
    {
     "name": "stdout",
     "output_type": "stream",
     "text": [
      "0 [array([0.3971076], dtype=float32), array([-0.46042943], dtype=float32)]\n",
      "20 [array([0.24743806], dtype=float32), array([0.21497267], dtype=float32)]\n",
      "40 [array([0.1424719], dtype=float32), array([0.27510875], dtype=float32)]\n",
      "60 [array([0.11520039], dtype=float32), array([0.29073286], dtype=float32)]\n",
      "80 [array([0.10811495], dtype=float32), array([0.29479218], dtype=float32)]\n",
      "100 [array([0.10627405], dtype=float32), array([0.29584685], dtype=float32)]\n",
      "120 [array([0.10579577], dtype=float32), array([0.29612085], dtype=float32)]\n",
      "140 [array([0.10567152], dtype=float32), array([0.29619205], dtype=float32)]\n",
      "160 [array([0.10563923], dtype=float32), array([0.29621056], dtype=float32)]\n",
      "180 [array([0.10563084], dtype=float32), array([0.29621536], dtype=float32)]\n",
      "200 [array([0.10562864], dtype=float32), array([0.2962166], dtype=float32)]\n"
     ]
    }
   ],
   "source": [
    "TRAIN_STEPS = 201\n",
    "\n",
    "for step in range(TRAIN_STEPS):\n",
    "    \n",
    "    # Session will run two ops:\n",
    "    # - summary_op prepares summary data we'll write to disk in a moment\n",
    "    # - train will use the optimizer to adjust our variables to reduce loss\n",
    "    summary_result, _ = sess.run([summary_op, train], \n",
    "                                  feed_dict={x_placeholder: x_train, \n",
    "                                             y_placeholder: y_train})\n",
    "    # write the summary data to disk\n",
    "    writer.add_summary(summary_result, step)\n",
    "    \n",
    "    # Uncomment the following two lines to watch training happen real time.\n",
    "    if step % 20 == 0:\n",
    "        print(step, sess.run([m, b]))\n",
    "    \n",
    "# close the writer when we're finished using it\n",
    "writer.close()"
   ]
  },
  {
   "cell_type": "markdown",
   "metadata": {},
   "source": [
    "Step 8) See the trained values for m and b"
   ]
  },
  {
   "cell_type": "code",
   "execution_count": 16,
   "metadata": {},
   "outputs": [
    {
     "name": "stdout",
     "output_type": "stream",
     "text": [
      "m: 0.105629, b: 0.296217\n"
     ]
    }
   ],
   "source": [
    "print (\"m: %f, b: %f\" % (sess.run(m), sess.run(b)))"
   ]
  },
  {
   "cell_type": "markdown",
   "metadata": {},
   "source": [
    "Step 9) Use the trained model to make a prediction"
   ]
  },
  {
   "cell_type": "code",
   "execution_count": 17,
   "metadata": {},
   "outputs": [
    {
     "data": {
      "text/plain": [
       "array([0.5074739], dtype=float32)"
      ]
     },
     "execution_count": 17,
     "metadata": {},
     "output_type": "execute_result"
    }
   ],
   "source": [
    "# Use the trained model to make a prediction!\n",
    "# Remember that x_placeholder must be a vector, hence [2] not just 2.\n",
    "# We expect the result to be (about): 2 * 0.1 + 0.3 + noise ~= 0.5\n",
    "sess.run(y, feed_dict={x_placeholder: [2]})"
   ]
  },
  {
   "cell_type": "markdown",
   "metadata": {},
   "source": [
    "Step 10) Start TensorBoard"
   ]
  },
  {
   "cell_type": "code",
   "execution_count": 18,
   "metadata": {
    "collapsed": true
   },
   "outputs": [],
   "source": [
    "# To start TensorBoard, run this command from a terminal\n",
    "# Note: you should run this from the same directory that contains this notebook\n",
    "# or, provide absolute path to the 'graphs' directory\n",
    "# If you are runnining in a virtualenv, be sure to start it\n",
    "# if you open a new terminal window.\n",
    "\n",
    "# $ tensorboard --logdir=graphs\n",
    "\n",
    "# To open TensorBoard, point your browser to http://localhost:6006\n",
    "# Then, click on the tabs for 'scalars', 'distributions', 'histograms', and 'graphs'\n",
    "# to learn more.\n",
    "\n",
    "# If you run into trouble, delete LOGDIR (to clear information from previous runs),\n",
    "# then re-run this script, and restart TensorBoard."
   ]
  }
 ],
 "metadata": {
  "kernelspec": {
   "display_name": "Python [default]",
   "language": "python",
   "name": "python3"
  },
  "language_info": {
   "codemirror_mode": {
    "name": "ipython",
    "version": 3
   },
   "file_extension": ".py",
   "mimetype": "text/x-python",
   "name": "python",
   "nbconvert_exporter": "python",
   "pygments_lexer": "ipython3",
   "version": "3.6.3"
  }
 },
 "nbformat": 4,
 "nbformat_minor": 2
}
